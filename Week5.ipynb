{
 "cells": [
  {
   "cell_type": "code",
   "execution_count": 1,
   "id": "49373427",
   "metadata": {},
   "outputs": [],
   "source": [
    "import bs4\n",
    "import requests"
   ]
  },
  {
   "cell_type": "markdown",
   "id": "eb3d0b76",
   "metadata": {},
   "source": [
    "## Достанем заголовки верхнего уровня \\<h1>, также посмотрим на \\<h2>"
   ]
  },
  {
   "cell_type": "code",
   "execution_count": 2,
   "id": "99b83cbe",
   "metadata": {},
   "outputs": [],
   "source": [
    "# Делаем запрос по странице\n",
    "req = requests.get('https://en.wikipedia.org/wiki/Bias%E2%80%93variance_tradeoff')"
   ]
  },
  {
   "cell_type": "code",
   "execution_count": 5,
   "id": "292d3878",
   "metadata": {},
   "outputs": [
    {
     "name": "stdout",
     "output_type": "stream",
     "text": [
      "<Response [200]>\n"
     ]
    }
   ],
   "source": [
    "# Response 200 говорит о том, что запрос к веб-странице выполнен успешно без ошибок\n",
    "print(req)"
   ]
  },
  {
   "cell_type": "code",
   "execution_count": 7,
   "id": "f18c0859",
   "metadata": {},
   "outputs": [],
   "source": [
    "# Создаем объект парсера из BeautifulSoup\n",
    "parser = bs4.BeautifulSoup(req.text, 'html.parser')"
   ]
  },
  {
   "cell_type": "code",
   "execution_count": 22,
   "id": "a13c7981",
   "metadata": {},
   "outputs": [
    {
     "name": "stdout",
     "output_type": "stream",
     "text": [
      "H1 headers: Bias–variance tradeoff\n"
     ]
    }
   ],
   "source": [
    "print('H1 headers:', ' '.join([item.text for item in parser.find_all('h1')]))"
   ]
  },
  {
   "cell_type": "code",
   "execution_count": 32,
   "id": "b14755ab",
   "metadata": {},
   "outputs": [
    {
     "name": "stdout",
     "output_type": "stream",
     "text": [
      "H2 header: Motivation\n",
      "H2 header: Bias–variance decomposition of mean squared error\n",
      "H2 header: Approaches\n",
      "H2 header: Applications\n",
      "H2 header: See also\n",
      "H2 header: References\n",
      "H2 header: External links\n"
     ]
    }
   ],
   "source": [
    "for item1 in parser.find_all('h2'):\n",
    "    inner_span =  item1.find('span', attrs={'class': 'mw-headline'})\n",
    "    if inner_span:\n",
    "        print(f'H2 header: {inner_span.text}')"
   ]
  },
  {
   "cell_type": "markdown",
   "id": "a97c1178",
   "metadata": {},
   "source": [
    "## Достанем названия всех статей в категории Machine Learning Algorithms"
   ]
  },
  {
   "cell_type": "code",
   "execution_count": 34,
   "id": "63d08c4e",
   "metadata": {},
   "outputs": [
    {
     "name": "stdout",
     "output_type": "stream",
     "text": [
      "<Response [200]>\n"
     ]
    }
   ],
   "source": [
    "req = requests.get('https://en.wikipedia.org/wiki/Category:Machine_learning_algorithms')\n",
    "print(req)"
   ]
  },
  {
   "cell_type": "code",
   "execution_count": 35,
   "id": "1bca3cd5",
   "metadata": {},
   "outputs": [],
   "source": [
    "parser = bs4.BeautifulSoup(req.text, 'html.parser')"
   ]
  },
  {
   "cell_type": "code",
   "execution_count": 48,
   "id": "8b8b081c",
   "metadata": {},
   "outputs": [
    {
     "name": "stdout",
     "output_type": "stream",
     "text": [
      "Pages in category \"Machine learning algorithms\":\n",
      "  A\n",
      "    Adagrad\n",
      "    Algorithms of Oppression\n",
      "    Almeida–Pineda recurrent backpropagation\n",
      "    Augmented Analytics\n",
      "  B\n",
      "    Backpropagation\n",
      "    Bioz\n",
      "    Bootstrap aggregating\n",
      "  C\n",
      "    CN2 algorithm\n",
      "    Constructing skill trees\n",
      "  D\n",
      "    Deep reinforcement learning\n",
      "    Dehaene–Changeux model\n",
      "    Diffusion map\n",
      "    Dominance-based rough set approach\n",
      "    Dynamic time warping\n",
      "  E\n",
      "    Elastic net regularization\n",
      "    Error-driven learning\n",
      "    Evolutionary multimodal optimization\n",
      "    Expectation–maximization algorithm\n",
      "    Extremal Ensemble Learning\n",
      "  F\n",
      "    FastICA\n",
      "    Federated Learning of Cohorts\n",
      "    Forward–backward algorithm\n",
      "  G\n",
      "    GeneRec\n",
      "    Genetic Algorithm for Rule Set Production\n",
      "    Growing self-organizing map\n",
      "  H\n",
      "    Hyper basis function network\n",
      "  I\n",
      "    IDistance\n",
      "    Incremental learning\n",
      "  K\n",
      "    K-nearest neighbors algorithm\n",
      "    Kernel methods for vector output\n",
      "    Kernel principal component analysis\n",
      "  L\n",
      "    Label propagation algorithm\n",
      "    Lasso (statistics)\n",
      "    Leabra\n",
      "    Linde–Buzo–Gray algorithm\n",
      "    Local outlier factor\n",
      "    Logic learning machine\n",
      "    LogitBoost\n",
      "    Loss functions for classification\n",
      "  M\n",
      "    Manifold alignment\n",
      "    Minimum redundancy feature selection\n",
      "    Mixture of experts\n",
      "    Multi expression programming\n",
      "    Multiple kernel learning\n",
      "  N\n",
      "    NarxCare\n",
      "    Non-negative matrix factorization\n",
      "  O\n",
      "    Online machine learning\n",
      "    Out-of-bag error\n",
      "  P\n",
      "    Prefrontal cortex basal ganglia working memory\n",
      "    Prototype methods\n",
      "    PVLV\n",
      "  Q\n",
      "    Q-learning\n",
      "    Quadratic unconstrained binary optimization\n",
      "    Query-level feature\n",
      "    Quickprop\n",
      "  R\n",
      "    Radial basis function network\n",
      "    Randomized weighted majority algorithm\n",
      "    Repeated incremental pruning to produce error reduction (RIPPER)\n",
      "    Rprop\n",
      "    Rule-based machine learning\n",
      "  S\n",
      "    Skill chaining\n",
      "    Sparse PCA\n",
      "    State–action–reward–state–action\n",
      "    Stochastic gradient descent\n",
      "    Structured kNN\n",
      "  T\n",
      "    T-distributed stochastic neighbor embedding\n",
      "    Triplet loss\n",
      "  W\n",
      "    Wake-sleep algorithm\n",
      "    Weighted majority algorithm (machine learning)\n",
      "  Z\n",
      "    Zero-shot learning\n"
     ]
    }
   ],
   "source": [
    "# Просмотрев html страницы, можно понять какие аттрибуты и тэги необходимо обрабатывать\n",
    "main_part = parser.find('div', attrs={'id': 'mw-pages'})\n",
    "print(main_part.find('h2').text + ':')\n",
    "for subcategory in main_part.find_all('div', attrs={'class': 'mw-category-group'}):\n",
    "    print('  ' + subcategory.find('h3').text)\n",
    "    for article_name in subcategory.find_all('a'):\n",
    "        print('    ' + article_name.text)"
   ]
  },
  {
   "cell_type": "code",
   "execution_count": null,
   "id": "25732b22",
   "metadata": {},
   "outputs": [],
   "source": []
  }
 ],
 "metadata": {
  "kernelspec": {
   "display_name": "Python 3 (ipykernel)",
   "language": "python",
   "name": "python3"
  },
  "language_info": {
   "codemirror_mode": {
    "name": "ipython",
    "version": 3
   },
   "file_extension": ".py",
   "mimetype": "text/x-python",
   "name": "python",
   "nbconvert_exporter": "python",
   "pygments_lexer": "ipython3",
   "version": "3.8.8"
  }
 },
 "nbformat": 4,
 "nbformat_minor": 5
}
