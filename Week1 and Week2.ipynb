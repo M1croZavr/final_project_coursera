{
 "cells": [
  {
   "cell_type": "code",
   "execution_count": 1,
   "id": "fadae33c",
   "metadata": {},
   "outputs": [],
   "source": [
    "from nltk.corpus import movie_reviews\n",
    "import nltk\n",
    "from sklearn.feature_extraction.text import CountVectorizer, TfidfVectorizer\n",
    "import numpy as np\n",
    "from sklearn.pipeline import Pipeline\n",
    "from sklearn.linear_model import LogisticRegression, SGDClassifier\n",
    "from sklearn.svm import LinearSVC\n",
    "from sklearn.model_selection import cross_val_score, GridSearchCV\n",
    "import warnings\n",
    "warnings.filterwarnings('ignore')"
   ]
  },
  {
   "cell_type": "markdown",
   "id": "0edb5961",
   "metadata": {},
   "source": [
    "## Week 1"
   ]
  },
  {
   "cell_type": "code",
   "execution_count": 2,
   "id": "6bed5309",
   "metadata": {},
   "outputs": [],
   "source": [
    "negids = movie_reviews.fileids('neg')\n",
    "posids = movie_reviews.fileids('pos')\n",
    "negfeats = [' '.join(movie_reviews.words(fileids=idx)) for idx in negids]\n",
    "posfeats = [' '.join(movie_reviews.words(fileids=idx)) for idx in posids]"
   ]
  },
  {
   "cell_type": "code",
   "execution_count": 4,
   "id": "5c7e2d87",
   "metadata": {},
   "outputs": [
    {
     "name": "stdout",
     "output_type": "stream",
     "text": [
      "Number of samples: 2000\n"
     ]
    }
   ],
   "source": [
    "reviews = posfeats + negfeats\n",
    "y = np.array([1] * len(posfeats) + [0] * len(negfeats))\n",
    "print(f'Number of samples: {len(y)}')"
   ]
  },
  {
   "cell_type": "code",
   "execution_count": 10,
   "id": "139665c8",
   "metadata": {},
   "outputs": [],
   "source": [
    "def write_answer(answer, filename):\n",
    "    with open(filename, 'w') as file:\n",
    "        file.write(str(answer))"
   ]
  },
  {
   "cell_type": "code",
   "execution_count": 5,
   "id": "ff340222",
   "metadata": {},
   "outputs": [],
   "source": [
    "write_answer(len(y), '11.txt')"
   ]
  },
  {
   "cell_type": "code",
   "execution_count": 6,
   "id": "91c9de04",
   "metadata": {},
   "outputs": [
    {
     "name": "stdout",
     "output_type": "stream",
     "text": [
      "Proportion of class 1: 0.5\n"
     ]
    }
   ],
   "source": [
    "class_1_proportion = sum(y) / len(y)\n",
    "print(f'Proportion of class 1: {class_1_proportion}')"
   ]
  },
  {
   "cell_type": "code",
   "execution_count": 9,
   "id": "a020ee26",
   "metadata": {},
   "outputs": [],
   "source": [
    "write_answer(class_1_proportion, '12.txt')"
   ]
  },
  {
   "cell_type": "code",
   "execution_count": 10,
   "id": "76cf7618",
   "metadata": {},
   "outputs": [
    {
     "name": "stdout",
     "output_type": "stream",
     "text": [
      "Number of features 39659\n"
     ]
    }
   ],
   "source": [
    "count_vect = CountVectorizer()\n",
    "X = count_vect.fit_transform(reviews)\n",
    "print(f'Number of features {X.shape[1]}')"
   ]
  },
  {
   "cell_type": "code",
   "execution_count": 11,
   "id": "57f73fd8",
   "metadata": {},
   "outputs": [],
   "source": [
    "write_answer(X.shape[1], '13.txt')"
   ]
  },
  {
   "cell_type": "code",
   "execution_count": 12,
   "id": "2eb59020",
   "metadata": {},
   "outputs": [
    {
     "data": {
      "text/plain": [
       "matrix([[5]], dtype=int64)"
      ]
     },
     "execution_count": 12,
     "metadata": {},
     "output_type": "execute_result"
    }
   ],
   "source": [
    "# Строит частоты\n",
    "X.todense()[0, np.where(count_vect.get_feature_names_out() == 'film')[0]]"
   ]
  },
  {
   "cell_type": "code",
   "execution_count": 13,
   "id": "f46b7732",
   "metadata": {},
   "outputs": [
    {
     "name": "stdout",
     "output_type": "stream",
     "text": [
      "Cross validation accuracy score for box cv and lr: 0.8424999999999999\n"
     ]
    }
   ],
   "source": [
    "pipe = Pipeline([('Vectorizer', CountVectorizer()), ('Estimator', LogisticRegression())])\n",
    "cv_score_accuracy = np.mean(cross_val_score(pipe, reviews, y, scoring=\"accuracy\"))\n",
    "print(f'Cross validation accuracy score for box cv and lr: {cv_score_accuracy}')"
   ]
  },
  {
   "cell_type": "code",
   "execution_count": 14,
   "id": "1631c6fc",
   "metadata": {},
   "outputs": [],
   "source": [
    "write_answer(cv_score_accuracy, '14.txt')"
   ]
  },
  {
   "cell_type": "code",
   "execution_count": 15,
   "id": "48306ffa",
   "metadata": {},
   "outputs": [
    {
     "name": "stdout",
     "output_type": "stream",
     "text": [
      "Cross validation accuracy score for box cv and lr: 0.9163599999999998\n"
     ]
    }
   ],
   "source": [
    "cv_score_auc = np.mean(cross_val_score(pipe, reviews, y, scoring=\"roc_auc\"))\n",
    "print(f'Cross validation accuracy score for box cv and lr: {cv_score_auc}')"
   ]
  },
  {
   "cell_type": "code",
   "execution_count": 16,
   "id": "d748202e",
   "metadata": {},
   "outputs": [],
   "source": [
    "write_answer(cv_score_auc, '15.txt')"
   ]
  },
  {
   "cell_type": "code",
   "execution_count": 17,
   "id": "7e32d8cc",
   "metadata": {},
   "outputs": [
    {
     "data": {
      "text/plain": [
       "Pipeline(steps=[('Vectorizer', CountVectorizer()),\n",
       "                ('Estimator', LogisticRegression())])"
      ]
     },
     "execution_count": 17,
     "metadata": {},
     "output_type": "execute_result"
    }
   ],
   "source": [
    "pipe.fit(reviews, y)"
   ]
  },
  {
   "cell_type": "code",
   "execution_count": 18,
   "id": "c2e27a0d",
   "metadata": {},
   "outputs": [],
   "source": [
    "important_features_idx = np.argsort(np.abs(pipe['Estimator'].coef_[0]))[::-1]"
   ]
  },
  {
   "cell_type": "code",
   "execution_count": 19,
   "id": "f91c1199",
   "metadata": {},
   "outputs": [],
   "source": [
    "important_features = np.array(pipe['Vectorizer'].get_feature_names())[important_features_idx]"
   ]
  },
  {
   "cell_type": "code",
   "execution_count": 20,
   "id": "a490d69f",
   "metadata": {},
   "outputs": [
    {
     "name": "stdout",
     "output_type": "stream",
     "text": [
      "Top 5 important features: bad unfortunately worst fun nothing\n"
     ]
    }
   ],
   "source": [
    "print(f'Top 5 important features: {\" \".join(important_features[:5])}')"
   ]
  },
  {
   "cell_type": "code",
   "execution_count": 21,
   "id": "0d1b9e03",
   "metadata": {},
   "outputs": [],
   "source": [
    "write_answer(\" \".join(important_features[:2]), '16.txt')"
   ]
  },
  {
   "cell_type": "markdown",
   "id": "551024fe",
   "metadata": {},
   "source": [
    "## Week2"
   ]
  },
  {
   "cell_type": "code",
   "execution_count": 5,
   "id": "0c3e07aa",
   "metadata": {},
   "outputs": [
    {
     "name": "stdout",
     "output_type": "stream",
     "text": [
      "Pipeline1 mean score: 0.8424999999999999, standart deviation: 0.021794494717703363\n",
      "Pipeline2 mean score: 0.8205, standart deviation: 0.003999999999999995\n"
     ]
    }
   ],
   "source": [
    "pipe1 = Pipeline([('Vectorizer', CountVectorizer()), ('Estimator', LogisticRegression())])\n",
    "pipe2 = Pipeline([('Vectorizer', TfidfVectorizer()), ('Estimator', LogisticRegression())])\n",
    "n_folds = 5\n",
    "pipe1_cvscore = cross_val_score(pipe1, reviews, y, cv=n_folds)\n",
    "pipe2_cvscore = cross_val_score(pipe2, reviews, y, cv=n_folds)\n",
    "print(f'Pipeline1 mean score: {pipe1_cvscore.mean()}, standart deviation: {pipe1_cvscore.std()}')\n",
    "print(f'Pipeline2 mean score: {pipe2_cvscore.mean()}, standart deviation: {pipe2_cvscore.std()}')"
   ]
  },
  {
   "cell_type": "code",
   "execution_count": 26,
   "id": "0d20a594",
   "metadata": {},
   "outputs": [],
   "source": [
    "write_answer('0.8424999999999999 0.021794494717703363 0.8205 0.003999999999999995', '21.txt')"
   ]
  },
  {
   "cell_type": "code",
   "execution_count": 37,
   "id": "8c54f206",
   "metadata": {},
   "outputs": [
    {
     "name": "stdout",
     "output_type": "stream",
     "text": [
      "Params names: dict_keys(['memory', 'steps', 'verbose', 'Vectorizer', 'Estimator', 'Vectorizer__analyzer', 'Vectorizer__binary', 'Vectorizer__decode_error', 'Vectorizer__dtype', 'Vectorizer__encoding', 'Vectorizer__input', 'Vectorizer__lowercase', 'Vectorizer__max_df', 'Vectorizer__max_features', 'Vectorizer__min_df', 'Vectorizer__ngram_range', 'Vectorizer__preprocessor', 'Vectorizer__stop_words', 'Vectorizer__strip_accents', 'Vectorizer__token_pattern', 'Vectorizer__tokenizer', 'Vectorizer__vocabulary', 'Estimator__C', 'Estimator__class_weight', 'Estimator__dual', 'Estimator__fit_intercept', 'Estimator__intercept_scaling', 'Estimator__l1_ratio', 'Estimator__max_iter', 'Estimator__multi_class', 'Estimator__n_jobs', 'Estimator__penalty', 'Estimator__random_state', 'Estimator__solver', 'Estimator__tol', 'Estimator__verbose', 'Estimator__warm_start'])\n"
     ]
    }
   ],
   "source": [
    "print(f'Params names: {pipe1.get_params().keys()}')"
   ]
  },
  {
   "cell_type": "code",
   "execution_count": 32,
   "id": "794d8987",
   "metadata": {},
   "outputs": [
    {
     "data": {
      "text/plain": [
       "GridSearchCV(cv=5,\n",
       "             estimator=Pipeline(steps=[('Vectorizer', CountVectorizer()),\n",
       "                                       ('Estimator', LogisticRegression())]),\n",
       "             param_grid={'Vectorizer__min_df': [10, 50]})"
      ]
     },
     "execution_count": 32,
     "metadata": {},
     "output_type": "execute_result"
    }
   ],
   "source": [
    "params = {'Vectorizer__min_df': [10, 50]}\n",
    "grid_count_vect = GridSearchCV(pipe1, params, cv=n_folds)\n",
    "grid_count_vect.fit(reviews, y)"
   ]
  },
  {
   "cell_type": "code",
   "execution_count": 35,
   "id": "d2aee673",
   "metadata": {},
   "outputs": [
    {
     "data": {
      "text/plain": [
       "{'mean_fit_time': array([1.16106958, 1.02700443]),\n",
       " 'std_fit_time': array([0.04663813, 0.04403845]),\n",
       " 'mean_score_time': array([0.19773579, 0.18773408]),\n",
       " 'std_score_time': array([0.01041684, 0.00547273]),\n",
       " 'param_Vectorizer__min_df': masked_array(data=[10, 50],\n",
       "              mask=[False, False],\n",
       "        fill_value='?',\n",
       "             dtype=object),\n",
       " 'params': [{'Vectorizer__min_df': 10}, {'Vectorizer__min_df': 50}],\n",
       " 'split0_test_score': array([0.82  , 0.7875]),\n",
       " 'split1_test_score': array([0.8525, 0.8275]),\n",
       " 'split2_test_score': array([0.835 , 0.8125]),\n",
       " 'split3_test_score': array([0.855, 0.82 ]),\n",
       " 'split4_test_score': array([0.84  , 0.8225]),\n",
       " 'mean_test_score': array([0.8405, 0.814 ]),\n",
       " 'std_test_score': array([0.01268858, 0.01410674]),\n",
       " 'rank_test_score': array([1, 2])}"
      ]
     },
     "execution_count": 35,
     "metadata": {},
     "output_type": "execute_result"
    }
   ],
   "source": [
    "grid_count_vect.cv_results_"
   ]
  },
  {
   "cell_type": "code",
   "execution_count": 36,
   "id": "5985c3d7",
   "metadata": {},
   "outputs": [],
   "source": [
    "write_answer('0.8405 0.814', '22.txt')"
   ]
  },
  {
   "cell_type": "code",
   "execution_count": 6,
   "id": "2cd3cf49",
   "metadata": {},
   "outputs": [
    {
     "name": "stdout",
     "output_type": "stream",
     "text": [
      "Pipeline3 mean score: 0.8325000000000001, standart deviation: 0.0162788205960997\n",
      "Pipeline4 mean score: 0.827, standart deviation: 0.020211382931407736\n"
     ]
    }
   ],
   "source": [
    "pipe3 = Pipeline([('Vectorizer', CountVectorizer()), ('Estimator', LinearSVC())])\n",
    "pipe4 = Pipeline([('Vectorizer', CountVectorizer()), ('Estimator', SGDClassifier())])\n",
    "# params = {'Estimator': [LinearSVC(), SGDClassifier(random_state=42)]}\n",
    "# grid_estimators = GridSearchCV(pipe1, params, cv=n_folds)\n",
    "# grid_estimators.fit(reviews, y)\n",
    "pipe3_cvscore = cross_val_score(pipe3, reviews, y, cv=n_folds)\n",
    "pipe4_cvscore = cross_val_score(pipe4, reviews, y, cv=n_folds)\n",
    "print(f'Pipeline3 mean score: {pipe3_cvscore.mean()}, standart deviation: {pipe3_cvscore.std()}')\n",
    "print(f'Pipeline4 mean score: {pipe4_cvscore.mean()}, standart deviation: {pipe4_cvscore.std()}')"
   ]
  },
  {
   "cell_type": "code",
   "execution_count": 8,
   "id": "e86f7ba2",
   "metadata": {},
   "outputs": [
    {
     "data": {
      "text/plain": [
       "array([0.7875, 0.835 , 0.8325, 0.845 , 0.835 ])"
      ]
     },
     "execution_count": 8,
     "metadata": {},
     "output_type": "execute_result"
    }
   ],
   "source": [
    "pipe4_cvscore # Худшее = 0.7875"
   ]
  },
  {
   "cell_type": "code",
   "execution_count": 11,
   "id": "c1753d93",
   "metadata": {},
   "outputs": [],
   "source": [
    "write_answer('0.7875', '23.txt')"
   ]
  },
  {
   "cell_type": "code",
   "execution_count": 75,
   "id": "bffd7c1b",
   "metadata": {},
   "outputs": [
    {
     "name": "stdout",
     "output_type": "stream",
     "text": [
      "{'mean_fit_time': array([1.61364355, 1.59900355]), 'std_fit_time': array([0.09827916, 0.08445906]), 'mean_score_time': array([0.18718324, 0.18978548]), 'std_score_time': array([0.00681331, 0.01259703]), 'param_Vectorizer__stop_words': masked_array(data=[list(['i', 'me', 'my', 'myself', 'we', 'our', 'ours', 'ourselves', 'you', \"you're\", \"you've\", \"you'll\", \"you'd\", 'your', 'yours', 'yourself', 'yourselves', 'he', 'him', 'his', 'himself', 'she', \"she's\", 'her', 'hers', 'herself', 'it', \"it's\", 'its', 'itself', 'they', 'them', 'their', 'theirs', 'themselves', 'what', 'which', 'who', 'whom', 'this', 'that', \"that'll\", 'these', 'those', 'am', 'is', 'are', 'was', 'were', 'be', 'been', 'being', 'have', 'has', 'had', 'having', 'do', 'does', 'did', 'doing', 'a', 'an', 'the', 'and', 'but', 'if', 'or', 'because', 'as', 'until', 'while', 'of', 'at', 'by', 'for', 'with', 'about', 'against', 'between', 'into', 'through', 'during', 'before', 'after', 'above', 'below', 'to', 'from', 'up', 'down', 'in', 'out', 'on', 'off', 'over', 'under', 'again', 'further', 'then', 'once', 'here', 'there', 'when', 'where', 'why', 'how', 'all', 'any', 'both', 'each', 'few', 'more', 'most', 'other', 'some', 'such', 'no', 'nor', 'not', 'only', 'own', 'same', 'so', 'than', 'too', 'very', 's', 't', 'can', 'will', 'just', 'don', \"don't\", 'should', \"should've\", 'now', 'd', 'll', 'm', 'o', 're', 've', 'y', 'ain', 'aren', \"aren't\", 'couldn', \"couldn't\", 'didn', \"didn't\", 'doesn', \"doesn't\", 'hadn', \"hadn't\", 'hasn', \"hasn't\", 'haven', \"haven't\", 'isn', \"isn't\", 'ma', 'mightn', \"mightn't\", 'mustn', \"mustn't\", 'needn', \"needn't\", 'shan', \"shan't\", 'shouldn', \"shouldn't\", 'wasn', \"wasn't\", 'weren', \"weren't\", 'won', \"won't\", 'wouldn', \"wouldn't\"]),\n",
      "                   'english'],\n",
      "             mask=[False, False],\n",
      "       fill_value='?',\n",
      "            dtype=object), 'params': [{'Vectorizer__stop_words': ['i', 'me', 'my', 'myself', 'we', 'our', 'ours', 'ourselves', 'you', \"you're\", \"you've\", \"you'll\", \"you'd\", 'your', 'yours', 'yourself', 'yourselves', 'he', 'him', 'his', 'himself', 'she', \"she's\", 'her', 'hers', 'herself', 'it', \"it's\", 'its', 'itself', 'they', 'them', 'their', 'theirs', 'themselves', 'what', 'which', 'who', 'whom', 'this', 'that', \"that'll\", 'these', 'those', 'am', 'is', 'are', 'was', 'were', 'be', 'been', 'being', 'have', 'has', 'had', 'having', 'do', 'does', 'did', 'doing', 'a', 'an', 'the', 'and', 'but', 'if', 'or', 'because', 'as', 'until', 'while', 'of', 'at', 'by', 'for', 'with', 'about', 'against', 'between', 'into', 'through', 'during', 'before', 'after', 'above', 'below', 'to', 'from', 'up', 'down', 'in', 'out', 'on', 'off', 'over', 'under', 'again', 'further', 'then', 'once', 'here', 'there', 'when', 'where', 'why', 'how', 'all', 'any', 'both', 'each', 'few', 'more', 'most', 'other', 'some', 'such', 'no', 'nor', 'not', 'only', 'own', 'same', 'so', 'than', 'too', 'very', 's', 't', 'can', 'will', 'just', 'don', \"don't\", 'should', \"should've\", 'now', 'd', 'll', 'm', 'o', 're', 've', 'y', 'ain', 'aren', \"aren't\", 'couldn', \"couldn't\", 'didn', \"didn't\", 'doesn', \"doesn't\", 'hadn', \"hadn't\", 'hasn', \"hasn't\", 'haven', \"haven't\", 'isn', \"isn't\", 'ma', 'mightn', \"mightn't\", 'mustn', \"mustn't\", 'needn', \"needn't\", 'shan', \"shan't\", 'shouldn', \"shouldn't\", 'wasn', \"wasn't\", 'weren', \"weren't\", 'won', \"won't\", 'wouldn', \"wouldn't\"]}, {'Vectorizer__stop_words': 'english'}], 'split0_test_score': array([0.82, 0.81]), 'split1_test_score': array([0.85, 0.84]), 'split2_test_score': array([0.835 , 0.8425]), 'split3_test_score': array([0.8475, 0.8475]), 'split4_test_score': array([0.8475, 0.8425]), 'mean_test_score': array([0.84  , 0.8365]), 'std_test_score': array([0.01129159, 0.01347219]), 'rank_test_score': array([1, 2])}\n"
     ]
    }
   ],
   "source": [
    "params = {'Vectorizer__stop_words': [nltk.corpus.stopwords.words('english'), 'english']}\n",
    "grid_stopwords = GridSearchCV(pipe1, params, cv=n_folds)\n",
    "grid_stopwords.fit(reviews, y)\n",
    "print(grid_stopwords.cv_results_)"
   ]
  },
  {
   "cell_type": "code",
   "execution_count": 76,
   "id": "ad74b321",
   "metadata": {},
   "outputs": [],
   "source": [
    "write_answer('0.84 0.8365', '24.txt')"
   ]
  },
  {
   "cell_type": "code",
   "execution_count": 78,
   "id": "20902cba",
   "metadata": {},
   "outputs": [
    {
     "name": "stdout",
     "output_type": "stream",
     "text": [
      "{'mean_fit_time': array([18.14022183, 14.968784  ]), 'std_fit_time': array([1.92764282, 0.54493946]), 'mean_score_time': array([0.55553145, 2.59568973]), 'std_score_time': array([0.05094433, 0.40728407]), 'param_Vectorizer': masked_array(data=[CountVectorizer(ngram_range=(1, 2)),\n",
      "                   CountVectorizer(analyzer='char_wb', ngram_range=(3, 5))],\n",
      "             mask=[False, False],\n",
      "       fill_value='?',\n",
      "            dtype=object), 'params': [{'Vectorizer': CountVectorizer(ngram_range=(1, 2))}, {'Vectorizer': CountVectorizer(analyzer='char_wb', ngram_range=(3, 5))}], 'split0_test_score': array([0.82, 0.82]), 'split1_test_score': array([0.8575, 0.84  ]), 'split2_test_score': array([0.845 , 0.8175]), 'split3_test_score': array([0.87 , 0.825]), 'split4_test_score': array([0.885 , 0.8225]), 'mean_test_score': array([0.8555, 0.825 ]), 'std_test_score': array([0.02215852, 0.00790569]), 'rank_test_score': array([1, 2])}\n"
     ]
    }
   ],
   "source": [
    "vect1 = CountVectorizer(ngram_range=(1, 2), analyzer='word')\n",
    "vect2 = CountVectorizer(ngram_range=(3, 5), analyzer='char_wb')\n",
    "params = {'Vectorizer': [vect1, vect2]}\n",
    "grid_ngrams = GridSearchCV(pipe1, params, cv=n_folds)\n",
    "grid_ngrams.fit(reviews, y)\n",
    "print(grid_ngrams.cv_results_)"
   ]
  },
  {
   "cell_type": "code",
   "execution_count": 79,
   "id": "1fa0c9e8",
   "metadata": {},
   "outputs": [],
   "source": [
    "write_answer('0.8555 0.825', '25.txt')"
   ]
  },
  {
   "cell_type": "code",
   "execution_count": null,
   "id": "052abb27",
   "metadata": {},
   "outputs": [],
   "source": []
  }
 ],
 "metadata": {
  "kernelspec": {
   "display_name": "Python 3 (ipykernel)",
   "language": "python",
   "name": "python3"
  },
  "language_info": {
   "codemirror_mode": {
    "name": "ipython",
    "version": 3
   },
   "file_extension": ".py",
   "mimetype": "text/x-python",
   "name": "python",
   "nbconvert_exporter": "python",
   "pygments_lexer": "ipython3",
   "version": "3.8.8"
  }
 },
 "nbformat": 4,
 "nbformat_minor": 5
}
